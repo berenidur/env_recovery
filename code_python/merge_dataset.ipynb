{
 "cells": [
  {
   "cell_type": "code",
   "execution_count": 1,
   "metadata": {},
   "outputs": [],
   "source": [
    "import numpy as np"
   ]
  },
  {
   "cell_type": "code",
   "execution_count": 2,
   "metadata": {},
   "outputs": [],
   "source": [
    "from utils import DataWindow"
   ]
  },
  {
   "cell_type": "code",
   "execution_count": 3,
   "metadata": {},
   "outputs": [
    {
     "name": "stdout",
     "output_type": "stream",
     "text": [
      "Loading train block 0\n",
      "Loading train block 1\n",
      "Loading train block 2\n",
      "Loading train block 3\n",
      "Loading validation block 0\n"
     ]
    }
   ],
   "source": [
    "data_train = []\n",
    "for i in range(4):\n",
    "    print(f'Loading train block {i}')\n",
    "    block = np.load(f'windows_dataset/train_windows_block_{i}.npy',allow_pickle=True)\n",
    "    data_train.append(block)\n",
    "\n",
    "# Convert the list of arrays into a single numpy array\n",
    "data_train = np.concatenate(data_train)\n",
    "\n",
    "\n",
    "data_val = []\n",
    "for i in range(1):\n",
    "    print(f'Loading validation block {i}')\n",
    "    block = np.load(f'windows_dataset/train_windows_block_{i}.npy',allow_pickle=True)\n",
    "    data_val.append(block)\n",
    "\n",
    "# Convert the list of arrays into a single numpy array\n",
    "data_val = np.concatenate(data_val)"
   ]
  },
  {
   "cell_type": "code",
   "execution_count": 4,
   "metadata": {},
   "outputs": [],
   "source": [
    "data_splits = {\n",
    "    'train_windows': data_train,\n",
    "    'val_windows': data_val\n",
    "}"
   ]
  },
  {
   "cell_type": "code",
   "execution_count": 5,
   "metadata": {},
   "outputs": [],
   "source": [
    "import pickle\n",
    "\n",
    "with open('breast_noNaN_data_arrays_CNN.pkl', 'wb') as f:\n",
    "    pickle.dump(data_splits, f)"
   ]
  }
 ],
 "metadata": {
  "kernelspec": {
   "display_name": "coherenet",
   "language": "python",
   "name": "python3"
  },
  "language_info": {
   "codemirror_mode": {
    "name": "ipython",
    "version": 3
   },
   "file_extension": ".py",
   "mimetype": "text/x-python",
   "name": "python",
   "nbconvert_exporter": "python",
   "pygments_lexer": "ipython3",
   "version": "3.11.11"
  }
 },
 "nbformat": 4,
 "nbformat_minor": 2
}
