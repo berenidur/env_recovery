{
 "cells": [
  {
   "cell_type": "markdown",
   "metadata": {},
   "source": [
    "# Splitting"
   ]
  },
  {
   "cell_type": "markdown",
   "metadata": {},
   "source": [
    "## Initial split"
   ]
  },
  {
   "cell_type": "code",
   "execution_count": 95,
   "metadata": {},
   "outputs": [],
   "source": [
    "import h5py\n",
    "import pickle\n",
    "from sklearn.model_selection import train_test_split\n",
    "from utils import *"
   ]
  },
  {
   "cell_type": "code",
   "execution_count": 96,
   "metadata": {},
   "outputs": [],
   "source": [
    "# Load the h5 file\n",
    "file_path = '../data/dataoncosalud/res_valid/comp_env_data.h5'\n",
    "with h5py.File(file_path, 'r') as h5_file:\n",
    "    keys_list = list(h5_file.keys())\n",
    "\n",
    "h5_len=len(keys_list)\n",
    "keys_list = [f'file_{i}' for i in range(h5_len)]"
   ]
  },
  {
   "cell_type": "code",
   "execution_count": 97,
   "metadata": {},
   "outputs": [
    {
     "name": "stdout",
     "output_type": "stream",
     "text": [
      "Training Data: ['file_603', 'file_483', 'file_439', 'file_399', 'file_382', 'file_596', 'file_480', 'file_265', 'file_565', 'file_572', 'file_69', 'file_231', 'file_486', 'file_278', 'file_543', 'file_352', 'file_260', 'file_149', 'file_124', 'file_431', 'file_469', 'file_185', 'file_227', 'file_291', 'file_247', 'file_290', 'file_249', 'file_447', 'file_368', 'file_555', 'file_593', 'file_114', 'file_203', 'file_141', 'file_437', 'file_7', 'file_524', 'file_19', 'file_172', 'file_537', 'file_56', 'file_301', 'file_433', 'file_553', 'file_428', 'file_311', 'file_49', 'file_355', 'file_25', 'file_446', 'file_220', 'file_494', 'file_522', 'file_42', 'file_419', 'file_261', 'file_576', 'file_277', 'file_380', 'file_383', 'file_414', 'file_154', 'file_126', 'file_310', 'file_344', 'file_449', 'file_174', 'file_31', 'file_113', 'file_23', 'file_173', 'file_316', 'file_66', 'file_57', 'file_322', 'file_222', 'file_17', 'file_299', 'file_255', 'file_305', 'file_577', 'file_190', 'file_319', 'file_530', 'file_271', 'file_94', 'file_180', 'file_332', 'file_329', 'file_312', 'file_5', 'file_45', 'file_542', 'file_390', 'file_381', 'file_16', 'file_48', 'file_583', 'file_586', 'file_3', 'file_573', 'file_441', 'file_364', 'file_436', 'file_302', 'file_225', 'file_26', 'file_552', 'file_263', 'file_50', 'file_229', 'file_37', 'file_157', 'file_237', 'file_578', 'file_175', 'file_502', 'file_349', 'file_194', 'file_507', 'file_582', 'file_514', 'file_67', 'file_320', 'file_168', 'file_360', 'file_162', 'file_309', 'file_193', 'file_152', 'file_328', 'file_338', 'file_512', 'file_334', 'file_103', 'file_393', 'file_74', 'file_425', 'file_581', 'file_119', 'file_545', 'file_412', 'file_485', 'file_207', 'file_335', 'file_354', 'file_388', 'file_407', 'file_8', 'file_472', 'file_36', 'file_139', 'file_253', 'file_303', 'file_477', 'file_59', 'file_111', 'file_365', 'file_356', 'file_262', 'file_496', 'file_297', 'file_150', 'file_266', 'file_521', 'file_533', 'file_38', 'file_434', 'file_307', 'file_198', 'file_468', 'file_357', 'file_146', 'file_528', 'file_535', 'file_147', 'file_423', 'file_348', 'file_325', 'file_394', 'file_123', 'file_506', 'file_96', 'file_143', 'file_239', 'file_513', 'file_97', 'file_324', 'file_279', 'file_293', 'file_481', 'file_122', 'file_183', 'file_202', 'file_323', 'file_246', 'file_421', 'file_409', 'file_482', 'file_585', 'file_532', 'file_516', 'file_125', 'file_429', 'file_416', 'file_223', 'file_342', 'file_53', 'file_219', 'file_129', 'file_546', 'file_396', 'file_451', 'file_548', 'file_398', 'file_488', 'file_405', 'file_386', 'file_584', 'file_294', 'file_567', 'file_465', 'file_515', 'file_112', 'file_179', 'file_424', 'file_464', 'file_453', 'file_373', 'file_314', 'file_151', 'file_495', 'file_233', 'file_306', 'file_487', 'file_164', 'file_317', 'file_136', 'file_410', 'file_197', 'file_479', 'file_258', 'file_232', 'file_115', 'file_120', 'file_478', 'file_376', 'file_384', 'file_224', 'file_571', 'file_523', 'file_347', 'file_127', 'file_594', 'file_285', 'file_556', 'file_43', 'file_107', 'file_551', 'file_490', 'file_133', 'file_440', 'file_499', 'file_44', 'file_169', 'file_65', 'file_283', 'file_85', 'file_242', 'file_186', 'file_326', 'file_159', 'file_12', 'file_35', 'file_28', 'file_170', 'file_142', 'file_236', 'file_467', 'file_500', 'file_221', 'file_547', 'file_95', 'file_51', 'file_240', 'file_511', 'file_351', 'file_519', 'file_178', 'file_460', 'file_529', 'file_41', 'file_557', 'file_525', 'file_206', 'file_392', 'file_282', 'file_358', 'file_397', 'file_254', 'file_217', 'file_4', 'file_256', 'file_569', 'file_536', 'file_430', 'file_100', 'file_226', 'file_448', 'file_550', 'file_575', 'file_213', 'file_359', 'file_171', 'file_98', 'file_292', 'file_215', 'file_61', 'file_406', 'file_47', 'file_32', 'file_417', 'file_267', 'file_327', 'file_200', 'file_134', 'file_27', 'file_527', 'file_505', 'file_230', 'file_489', 'file_378', 'file_288', 'file_418', 'file_391', 'file_498', 'file_138', 'file_62', 'file_471', 'file_128', 'file_587', 'file_520', 'file_64', 'file_14', 'file_156', 'file_40', 'file_492', 'file_379', 'file_187', 'file_216', 'file_52', 'file_337', 'file_295', 'file_251', 'file_461', 'file_455', 'file_601', 'file_269', 'file_201', 'file_161', 'file_401', 'file_476', 'file_105', 'file_389', 'file_1', 'file_561', 'file_80', 'file_205', 'file_34', 'file_508', 'file_427', 'file_454', 'file_366', 'file_91', 'file_339', 'file_345', 'file_241', 'file_13', 'file_315', 'file_387', 'file_273', 'file_166', 'file_598', 'file_484', 'file_589', 'file_504', 'file_243', 'file_566', 'file_562', 'file_189', 'file_475', 'file_510', 'file_58', 'file_474', 'file_560', 'file_252', 'file_21', 'file_313', 'file_459', 'file_160', 'file_276', 'file_191', 'file_385', 'file_413', 'file_491', 'file_343', 'file_308', 'file_130', 'file_99', 'file_372', 'file_87', 'file_458', 'file_330', 'file_214', 'file_466', 'file_121', 'file_20', 'file_71', 'file_106', 'file_270', 'file_435', 'file_102']\n",
      "Validation Data: ['file_554', 'file_68', 'file_15', 'file_318', 'file_600', 'file_196', 'file_463', 'file_331', 'file_73', 'file_275', 'file_204', 'file_155', 'file_238', 'file_497', 'file_346', 'file_104', 'file_259', 'file_296', 'file_362', 'file_176', 'file_369', 'file_257', 'file_574', 'file_75', 'file_158', 'file_602', 'file_108', 'file_403', 'file_188', 'file_340', 'file_558', 'file_284', 'file_375', 'file_77', 'file_544', 'file_361', 'file_457', 'file_286', 'file_192', 'file_473', 'file_199', 'file_549', 'file_363', 'file_89', 'file_321', 'file_210', 'file_78', 'file_592', 'file_195', 'file_244', 'file_470', 'file_212', 'file_426', 'file_116', 'file_456', 'file_274', 'file_289', 'file_539', 'file_595', 'file_281', 'file_245', 'file_93', 'file_137', 'file_63', 'file_591', 'file_374', 'file_165', 'file_54', 'file_450', 'file_518', 'file_444', 'file_287', 'file_452', 'file_101', 'file_0', 'file_84', 'file_534', 'file_336', 'file_83', 'file_341', 'file_218', 'file_432', 'file_9', 'file_272', 'file_2', 'file_6', 'file_140', 'file_371', 'file_60', 'file_264', 'file_541']\n",
      "Test Data: ['file_86', 'file_509', 'file_580', 'file_415', 'file_400', 'file_234', 'file_370', 'file_81', 'file_402', 'file_228', 'file_280', 'file_367', 'file_404', 'file_353', 'file_182', 'file_30', 'file_248', 'file_298', 'file_11', 'file_209', 'file_167', 'file_377', 'file_501', 'file_599', 'file_350', 'file_526', 'file_76', 'file_184', 'file_144', 'file_88', 'file_531', 'file_422', 'file_235', 'file_438', 'file_564', 'file_443', 'file_442', 'file_70', 'file_462', 'file_163', 'file_109', 'file_29', 'file_563', 'file_300', 'file_420', 'file_39', 'file_148', 'file_445', 'file_517', 'file_597', 'file_540', 'file_211', 'file_568', 'file_268', 'file_395', 'file_18', 'file_333', 'file_503', 'file_33', 'file_72', 'file_22', 'file_90', 'file_588', 'file_131', 'file_132', 'file_208', 'file_538', 'file_46', 'file_579', 'file_411', 'file_118', 'file_79', 'file_10', 'file_135', 'file_177', 'file_181', 'file_82', 'file_570', 'file_117', 'file_153', 'file_590', 'file_55', 'file_250', 'file_408', 'file_110', 'file_92', 'file_304', 'file_493', 'file_24', 'file_145', 'file_559']\n"
     ]
    }
   ],
   "source": [
    "train_data, temp_data = train_test_split(keys_list, test_size=0.3, random_state=42)\n",
    "val_data, test_data = train_test_split(temp_data, test_size=0.5, random_state=42)\n",
    "\n",
    "# Output\n",
    "print(\"Training Data:\", train_data)\n",
    "print(\"Validation Data:\", val_data)\n",
    "print(\"Test Data:\", test_data)\n",
    "\n",
    "data_splits={\n",
    "    'train_files': train_data,  # 70%\n",
    "    'val_files'  : val_data,    # 15%\n",
    "    'test_files' : test_data    # 15%\n",
    "}"
   ]
  },
  {
   "cell_type": "code",
   "execution_count": 98,
   "metadata": {},
   "outputs": [],
   "source": [
    "# with open('data_splits.pkl', 'wb') as handle:\n",
    "#     pickle.dump(data_splits, handle)"
   ]
  },
  {
   "cell_type": "markdown",
   "metadata": {},
   "source": [
    "### (importante)"
   ]
  },
  {
   "cell_type": "code",
   "execution_count": 99,
   "metadata": {},
   "outputs": [
    {
     "data": {
      "text/plain": [
       "array([[228.00528622, 246.92725986, 228.75734539, ..., 232.96386701,\n",
       "        214.11586221, 222.5324841 ],\n",
       "       [240.26088589, 248.77291447, 240.2404179 , ..., 240.30441831,\n",
       "        226.5104666 , 226.82028123],\n",
       "       [222.59610959, 231.21305142, 223.09807786, ..., 225.76497507,\n",
       "        213.29020976, 210.40599295],\n",
       "       ...,\n",
       "       [199.18592858, 207.39007011, 201.84430137, ..., 194.89195987,\n",
       "        177.65942485, 180.42227858],\n",
       "       [201.98506842, 211.47560678, 202.57490905, ..., 200.89864479,\n",
       "        185.33923393, 186.77003826],\n",
       "       [209.70227605, 220.48491634, 209.84911271, ..., 210.15597282,\n",
       "        194.25546089, 195.73818393]])"
      ]
     },
     "execution_count": 99,
     "metadata": {},
     "output_type": "execute_result"
    }
   ],
   "source": [
    "h5_path = '../data/dataoncosalud/res_valid/comp_env_data.h5'\n",
    "\n",
    "data = load_h5_dataset(h5_path, 'file_1', 'comp_env_interp_1')\n",
    "# data = load_h5_dataset(h5_path, 'file_1', 'validRS')\n",
    "data"
   ]
  },
  {
   "cell_type": "code",
   "execution_count": 100,
   "metadata": {},
   "outputs": [
    {
     "data": {
      "text/plain": [
       "(73.34969801677707, 250.6374750850312)"
      ]
     },
     "execution_count": 100,
     "metadata": {},
     "output_type": "execute_result"
    }
   ],
   "source": [
    "np.min(data), np.max(data)"
   ]
  },
  {
   "cell_type": "markdown",
   "metadata": {},
   "source": [
    "## Fixing dimensions"
   ]
  },
  {
   "cell_type": "code",
   "execution_count": 101,
   "metadata": {},
   "outputs": [
    {
     "name": "stdout",
     "output_type": "stream",
     "text": [
      "134\n",
      "1010\n",
      "20\n"
     ]
    }
   ],
   "source": [
    "minimo = 1000000\n",
    "maximo = 0\n",
    "lst_H=[]\n",
    "lst_W=[]\n",
    "for i in range(h5_len):\n",
    "    data = load_h5_dataset(h5_path, f'file_{i+1}', 'comp_env_interp_1')\n",
    "    # print(np.min(data), np.max(data))\n",
    "    # print(f'{i}\\t{data.shape}')\n",
    "\n",
    "    if data.shape[0]<minimo:\n",
    "        minimo = data.shape[0]\n",
    "    if data.shape[0]>maximo:\n",
    "        maximo = data.shape[0]\n",
    "    lst_H.append(data.shape[0])\n",
    "\n",
    "    if data.shape[1]<256:\n",
    "        lst_W.append(i)\n",
    "print(minimo)\n",
    "print(maximo)\n",
    "arrH=np.array(lst_H)\n",
    "arrW=np.array(lst_W)\n",
    "print(len(arrW))"
   ]
  },
  {
   "cell_type": "code",
   "execution_count": 102,
   "metadata": {},
   "outputs": [
    {
     "data": {
      "image/png": "[encoded data removed]",
      "text/plain": [
       "<Figure size 640x480 with 1 Axes>"
      ]
     },
     "metadata": {},
     "output_type": "display_data"
    }
   ],
   "source": [
    "import matplotlib.pyplot as plt\n",
    "\n",
    "plt.boxplot(arrH)\n",
    "plt.title('Boxplot of a')\n",
    "plt.ylabel('Values')\n",
    "plt.show()"
   ]
  },
  {
   "cell_type": "code",
   "execution_count": 103,
   "metadata": {},
   "outputs": [
    {
     "name": "stdout",
     "output_type": "stream",
     "text": [
      "Q1: 228\n",
      "Count under Q1: 101\n"
     ]
    }
   ],
   "source": [
    "Q1 = np.percentile(arrH, 25)\n",
    "count_under_Q1 = np.sum(arrH < Q1)\n",
    "Q1 = round(Q1)\n",
    "\n",
    "print(\"Q1:\", Q1)\n",
    "print(\"Count under Q1:\", count_under_Q1)"
   ]
  },
  {
   "cell_type": "code",
   "execution_count": 104,
   "metadata": {},
   "outputs": [
    {
     "name": "stdout",
     "output_type": "stream",
     "text": [
      "[ 21  37  38  49  50  51  52  95 100 101 102 103 112 126 127 160 161 162\n",
      " 203 204 205 206 212 213 214 217 218 223 224 233 234 240 241 242 243 263\n",
      " 264 265 266 267 268 269 270 271 359 360 361 362 363 364 365 366 367 368\n",
      " 369 370 383 384 385 386 387 402 403 404 405 406 407 408 409 415 416 417\n",
      " 435 436 437 438 439 470 471 472 473 474 475 476 477 478 479 480 481 482\n",
      " 483 484 485 486 487 488 567 568 569 570 571]\n"
     ]
    }
   ],
   "source": [
    "indices_under_Q1 = np.where(arrH < Q1)[0]\n",
    "print(indices_under_Q1)"
   ]
  },
  {
   "cell_type": "code",
   "execution_count": 105,
   "metadata": {},
   "outputs": [],
   "source": [
    "filtered_list = [i for i in range(h5_len) if i not in indices_under_Q1 and i not in arrW]\n",
    "# print(filtered_list)\n",
    "keys_list = [f'file_{i+1}' for i in filtered_list]"
   ]
  },
  {
   "cell_type": "code",
   "execution_count": 106,
   "metadata": {},
   "outputs": [
    {
     "name": "stdout",
     "output_type": "stream",
     "text": [
      "Training Data: ['file_237', 'file_391', 'file_69', 'file_126', 'file_520', 'file_521', 'file_31', 'file_193', 'file_176', 'file_28', 'file_8', 'file_556', 'file_124', 'file_42', 'file_178', 'file_567', 'file_136', 'file_132', 'file_557', 'file_395', 'file_165', 'file_455', 'file_465', 'file_203', 'file_305', 'file_314', 'file_548', 'file_159', 'file_451', 'file_77', 'file_246', 'file_189', 'file_461', 'file_284', 'file_380', 'file_125', 'file_565', 'file_166', 'file_295', 'file_173', 'file_238', 'file_448', 'file_93', 'file_276', 'file_186', 'file_291', 'file_444', 'file_84', 'file_375', 'file_231', 'file_281', 'file_137', 'file_545', 'file_354', 'file_434', 'file_467', 'file_248', 'file_423', 'file_538', 'file_468', 'file_317', 'file_41', 'file_228', 'file_157', 'file_450', 'file_275', 'file_575', 'file_337', 'file_68', 'file_129', 'file_399', 'file_307', 'file_7', 'file_446', 'file_427', 'file_179', 'file_171', 'file_198', 'file_498', 'file_209', 'file_331', 'file_11', 'file_466', 'file_119', 'file_91', 'file_43', 'file_381', 'file_188', 'file_574', 'file_351', 'file_348', 'file_230', 'file_555', 'file_532', 'file_553', 'file_226', 'file_100', 'file_167', 'file_184', 'file_497', 'file_168', 'file_3', 'file_107', 'file_504', 'file_79', 'file_338', 'file_141', 'file_454', 'file_111', 'file_164', 'file_286', 'file_539', 'file_112', 'file_535', 'file_140', 'file_208', 'file_236', 'file_293', 'file_372', 'file_353', 'file_432', 'file_355', 'file_500', 'file_335', 'file_143', 'file_591', 'file_261', 'file_523', 'file_257', 'file_147', 'file_525', 'file_340', 'file_552', 'file_462', 'file_377', 'file_470', 'file_550', 'file_452', 'file_592', 'file_130', 'file_200', 'file_374', 'file_421', 'file_401', 'file_586', 'file_602', 'file_280', 'file_378', 'file_185', 'file_154', 'file_229', 'file_310', 'file_279', 'file_133', 'file_138', 'file_430', 'file_262', 'file_507', 'file_453', 'file_145', 'file_349', 'file_516', 'file_123', 'file_527', 'file_397', 'file_151', 'file_449', 'file_49', 'file_561', 'file_74', 'file_347', 'file_95', 'file_289', 'file_211', 'file_180', 'file_13', 'file_37', 'file_30', 'file_191', 'file_160', 'file_526', 'file_424', 'file_259', 'file_110', 'file_60', 'file_287', 'file_458', 'file_464', 'file_199', 'file_46', 'file_492', 'file_240', 'file_346', 'file_306', 'file_518', 'file_5', 'file_308', 'file_603', 'file_116', 'file_273', 'file_531', 'file_251', 'file_192', 'file_114', 'file_356', 'file_253', 'file_70', 'file_56', 'file_34', 'file_324', 'file_419', 'file_232', 'file_549', 'file_29', 'file_494', 'file_277', 'file_312', 'file_352', 'file_183', 'file_580', 'file_156', 'file_71', 'file_153', 'file_146', 'file_581', 'file_9', 'file_415', 'file_564', 'file_73', 'file_376', 'file_15', 'file_177', 'file_45', 'file_495', 'file_560', 'file_508', 'file_254', 'file_339', 'file_537', 'file_533', 'file_429', 'file_283', 'file_245', 'file_250', 'file_359', 'file_558', 'file_303', 'file_593', 'file_576', 'file_379', 'file_447', 'file_326', 'file_233', 'file_182', 'file_48', 'file_255', 'file_517', 'file_220', 'file_390', 'file_311', 'file_121', 'file_62', 'file_505', 'file_2', 'file_544', 'file_594', 'file_58', 'file_90', 'file_239', 'file_36', 'file_315', 'file_463', 'file_106', 'file_431', 'file_578', 'file_61', 'file_442', 'file_316', 'file_288', 'file_14', 'file_396', 'file_99', 'file_503', 'file_330', 'file_187', 'file_420', 'file_597', 'file_152', 'file_382', 'file_585', 'file_400', 'file_290', 'file_63', 'file_460', 'file_59', 'file_195', 'file_217', 'file_601', 'file_212', 'file_190', 'file_67', 'file_57', 'file_441', 'file_282', 'file_304', 'file_23', 'file_394', 'file_181', 'file_336', 'file_559', 'file_221', 'file_501', 'file_357', 'file_529', 'file_435', 'file_309', 'file_389', 'file_170', 'file_148', 'file_172', 'file_456', 'file_115', 'file_469', 'file_98', 'file_579', 'file_422', 'file_252', 'file_587', 'file_139', 'file_604', 'file_21', 'file_216', 'file_81', 'file_122', 'file_327', 'file_445', 'file_551', 'file_118']\n",
      "Validation Data: ['file_302', 'file_169', 'file_76', 'file_402', 'file_44', 'file_12', 'file_227', 'file_1', 'file_392', 'file_502', 'file_583', 'file_323', 'file_443', 'file_85', 'file_18', 'file_536', 'file_573', 'file_600', 'file_412', 'file_542', 'file_329', 'file_562', 'file_32', 'file_457', 'file_86', 'file_150', 'file_496', 'file_358', 'file_512', 'file_202', 'file_26', 'file_499', 'file_546', 'file_328', 'file_78', 'file_524', 'file_383', 'file_563', 'file_425', 'file_522', 'file_65', 'file_260', 'file_117', 'file_411', 'file_577', 'file_20', 'file_414', 'file_598', 'file_313', 'file_89', 'file_554', 'file_134', 'file_433', 'file_325', 'file_109', 'file_135', 'file_301', 'file_595', 'file_210', 'file_540', 'file_47', 'file_258', 'file_33', 'file_490', 'file_393', 'file_513', 'file_4', 'file_294', 'file_82', 'file_491', 'file_249', 'file_256', 'file_413']\n",
      "Test Data: ['file_72', 'file_528', 'file_590', 'file_105', 'file_64', 'file_511', 'file_80', 'file_158', 'file_155', 'file_285', 'file_599', 'file_55', 'file_54', 'file_197', 'file_566', 'file_120', 'file_223', 'file_6', 'file_83', 'file_547', 'file_144', 'file_66', 'file_196', 'file_92', 'file_582', 'file_509', 'file_97', 'file_278', 'file_398', 'file_274', 'file_373', 'file_596', 'file_350', 'file_519', 'file_94', 'file_10', 'file_292', 'file_541', 'file_588', 'file_514', 'file_25', 'file_263', 'file_175', 'file_534', 'file_131', 'file_194', 'file_87', 'file_149', 'file_530', 'file_35', 'file_174', 'file_584', 'file_222', 'file_589', 'file_19', 'file_543', 'file_27', 'file_506', 'file_247', 'file_16', 'file_341', 'file_108', 'file_428', 'file_510', 'file_142', 'file_24', 'file_17', 'file_88', 'file_493', 'file_426', 'file_201', 'file_515', 'file_459']\n"
     ]
    }
   ],
   "source": [
    "train_data, temp_data = train_test_split(keys_list, test_size=0.3, random_state=42)\n",
    "val_data, test_data = train_test_split(temp_data, test_size=0.5, random_state=42)\n",
    "\n",
    "# Output\n",
    "print(\"Training Data:\", train_data)\n",
    "print(\"Validation Data:\", val_data)\n",
    "print(\"Test Data:\", test_data)\n",
    "\n",
    "data_splits={\n",
    "    'train_files': train_data,  # 70%\n",
    "    'val_files'  : val_data,    # 15%\n",
    "    'test_files' : test_data,   # 15%\n",
    "    'Q1'         : Q1\n",
    "}"
   ]
  },
  {
   "cell_type": "code",
   "execution_count": 107,
   "metadata": {},
   "outputs": [],
   "source": [
    "with open('data_splits.pkl', 'wb') as handle:\n",
    "    pickle.dump(data_splits, handle)"
   ]
  }
 ],
 "metadata": {
  "kernelspec": {
   "display_name": "coherenet",
   "language": "python",
   "name": "python3"
  },
  "language_info": {
   "codemirror_mode": {
    "name": "ipython",
    "version": 3
   },
   "file_extension": ".py",
   "mimetype": "text/x-python",
   "name": "python",
   "nbconvert_exporter": "python",
   "pygments_lexer": "ipython3",
   "version": "3.11.9"
  }
 },
 "nbformat": 4,
 "nbformat_minor": 2
}
