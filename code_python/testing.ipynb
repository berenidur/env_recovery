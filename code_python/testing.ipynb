{
 "cells": [
  {
   "cell_type": "code",
   "execution_count": 7,
   "metadata": {},
   "outputs": [],
   "source": [
    "import scipy.io\n",
    "from os import listdir\n",
    "from os.path import isfile, join"
   ]
  },
  {
   "cell_type": "code",
   "execution_count": 8,
   "metadata": {},
   "outputs": [],
   "source": [
    "mat = scipy.io.loadmat('../data/dataoncosalud/breast/bmode/08-31-49_m1.mat')"
   ]
  },
  {
   "cell_type": "code",
   "execution_count": 9,
   "metadata": {},
   "outputs": [
    {
     "data": {
      "text/plain": [
       "{'__header__': b'MATLAB 5.0 MAT-file, Platform: PCWIN64, Created on: Fri Dec  6 03:08:19 2024',\n",
       " '__version__': '1.0',\n",
       " '__globals__': [],\n",
       " 'a_0': array([[20.24993123]]),\n",
       " 'b_0': array([[42.83232499]]),\n",
       " 'comp_env': array([[209.42748786, 236.57626496, 215.16729021, ..., 221.62503944,\n",
       "         194.55784765, 216.24853992],\n",
       "        [230.13171686, 248.84047216, 228.33119469, ..., 238.06924195,\n",
       "         222.5574307 , 226.12456362],\n",
       "        [235.2343399 , 254.52228596, 233.98879222, ..., 241.45917672,\n",
       "         223.49559007, 231.01001231],\n",
       "        ...,\n",
       "        [220.46236286, 229.21405365, 221.01640797, ..., 213.64778604,\n",
       "         194.73944956, 196.30144159],\n",
       "        [214.09517788, 230.12408597, 216.19055689, ..., 214.75497812,\n",
       "         185.68101247, 203.26529017],\n",
       "        [223.94658685, 233.64443504, 225.27876057, ..., 214.74635339,\n",
       "         196.40115122, 202.54628962]])}"
      ]
     },
     "execution_count": 9,
     "metadata": {},
     "output_type": "execute_result"
    }
   ],
   "source": [
    "mat"
   ]
  },
  {
   "cell_type": "code",
   "execution_count": 15,
   "metadata": {},
   "outputs": [
    {
     "data": {
      "text/plain": [
       "(200, 256)"
      ]
     },
     "execution_count": 15,
     "metadata": {},
     "output_type": "execute_result"
    }
   ],
   "source": [
    "mat[\"comp_env\"][:200,:].shape"
   ]
  },
  {
   "cell_type": "code",
   "execution_count": 10,
   "metadata": {},
   "outputs": [],
   "source": [
    "# pathbreast ='../data/dataoncosalud/breast/bmode/'\n",
    "# pathganglio='../data/dataoncosalud/ganglio/bmode/'\n",
    "\n",
    "# fnamesbreast = [pathbreast+f for f in listdir(pathbreast) if isfile(join(pathbreast, f))]\n",
    "# fnamesganglio = [pathganglio+f for f in listdir(pathganglio) if isfile(join(pathganglio, f))]"
   ]
  },
  {
   "cell_type": "code",
   "execution_count": 11,
   "metadata": {},
   "outputs": [],
   "source": [
    "# from sklearn.model_selection import train_test_split\n",
    "# pathslst=fnamesganglio+fnamesbreast\n",
    "# train_data, temp_data = train_test_split(pathslst, test_size=0.3, random_state=42)\n",
    "\n",
    "# # Now split the remaining data into validation (50%) and test (50%)\n",
    "# val_data, test_data = train_test_split(temp_data, test_size=0.5, random_state=42)\n",
    "\n",
    "# # Output\n",
    "# print(\"Training Data:\", train_data)\n",
    "# print(\"Validation Data:\", val_data)\n",
    "# print(\"Test Data:\", test_data)\n",
    "\n",
    "# data_splits={\n",
    "#     'train_files': train_data,\n",
    "#     'val_files'  : val_data,\n",
    "#     'test_files' : test_data\n",
    "# }"
   ]
  },
  {
   "cell_type": "code",
   "execution_count": 12,
   "metadata": {},
   "outputs": [],
   "source": [
    "# import pickle\n",
    "\n",
    "# with open('data_splits.pkl', 'wb') as handle:\n",
    "#     pickle.dump(data_splits, handle)"
   ]
  }
 ],
 "metadata": {
  "kernelspec": {
   "display_name": "coherenet",
   "language": "python",
   "name": "python3"
  },
  "language_info": {
   "codemirror_mode": {
    "name": "ipython",
    "version": 3
   },
   "file_extension": ".py",
   "mimetype": "text/x-python",
   "name": "python",
   "nbconvert_exporter": "python",
   "pygments_lexer": "ipython3",
   "version": "3.11.9"
  }
 },
 "nbformat": 4,
 "nbformat_minor": 2
}
